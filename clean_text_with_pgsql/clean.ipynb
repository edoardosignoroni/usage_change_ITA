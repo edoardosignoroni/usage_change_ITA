{
 "cells": [
  {
   "cell_type": "code",
   "execution_count": 1,
   "id": "757cc602",
   "metadata": {},
   "outputs": [
    {
     "name": "stderr",
     "output_type": "stream",
     "text": [
      "/home/edo/miniconda3/envs/align/lib/python3.8/site-packages/tqdm/auto.py:22: TqdmWarning: IProgress not found. Please update jupyter and ipywidgets. See https://ipywidgets.readthedocs.io/en/stable/user_install.html\n",
      "  from .autonotebook import tqdm as notebook_tqdm\n"
     ]
    }
   ],
   "source": [
    "import cleaner"
   ]
  },
  {
   "cell_type": "code",
   "execution_count": 2,
   "id": "7c6f8f6b",
   "metadata": {},
   "outputs": [
    {
     "name": "stdout",
     "output_type": "stream",
     "text": [
      "Query done! Now Joining...\n",
      "1871117\n"
     ]
    },
    {
     "name": "stderr",
     "output_type": "stream",
     "text": [
      "100%|████████████████████████████████████████████████████████████████████████████████████████████████████████████████████████████████████████████████████████| 1871117/1871117 [00:13<00:00, 143867.20it/s]\n"
     ]
    }
   ],
   "source": [
    "cleaner.generate_clean_file_lemmatized('../data/2020_clean/days_2020/days_2020_clean_lemma.txt', 'days_2020')"
   ]
  },
  {
   "cell_type": "code",
   "execution_count": null,
   "id": "77cd3590",
   "metadata": {},
   "outputs": [],
   "source": []
  }
 ],
 "metadata": {
  "kernelspec": {
   "display_name": "Python 3 (ipykernel)",
   "language": "python",
   "name": "python3"
  },
  "language_info": {
   "codemirror_mode": {
    "name": "ipython",
    "version": 3
   },
   "file_extension": ".py",
   "mimetype": "text/x-python",
   "name": "python",
   "nbconvert_exporter": "python",
   "pygments_lexer": "ipython3",
   "version": "3.8.13"
  }
 },
 "nbformat": 4,
 "nbformat_minor": 5
}
