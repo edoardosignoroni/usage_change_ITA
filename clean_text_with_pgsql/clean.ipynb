{
 "cells": [
  {
   "cell_type": "code",
   "execution_count": 1,
   "id": "3ed96a22",
   "metadata": {},
   "outputs": [],
   "source": [
    "import cleaner"
   ]
  },
  {
   "cell_type": "code",
   "execution_count": 3,
   "id": "d1f8fc47",
   "metadata": {},
   "outputs": [
    {
     "name": "stdout",
     "output_type": "stream",
     "text": [
      "Starting cleaning file!\n",
      "Query done! Now Joining...\n",
      "5375\n",
      "Finished!\n"
     ]
    }
   ],
   "source": [
    "cleaner.run_all('../test/days_2019_sentencesL.txt', '../test/2019.txt')\n",
    "cleaner.run_all('../test/days_2020_sentencesL.txt', '../test/2020.txt')"
   ]
  },
  {
   "cell_type": "code",
   "execution_count": null,
   "id": "125444b5",
   "metadata": {},
   "outputs": [],
   "source": []
  }
 ],
 "metadata": {
  "kernelspec": {
   "display_name": "Python 3 (ipykernel)",
   "language": "python",
   "name": "python3"
  },
  "language_info": {
   "codemirror_mode": {
    "name": "ipython",
    "version": 3
   },
   "file_extension": ".py",
   "mimetype": "text/x-python",
   "name": "python",
   "nbconvert_exporter": "python",
   "pygments_lexer": "ipython3",
   "version": "3.8.13"
  }
 },
 "nbformat": 4,
 "nbformat_minor": 5
}
