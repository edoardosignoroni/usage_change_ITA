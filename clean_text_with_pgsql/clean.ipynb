{
 "cells": [
  {
   "cell_type": "code",
   "execution_count": 1,
   "id": "757cc602",
   "metadata": {},
   "outputs": [],
   "source": [
    "import cleaner"
   ]
  },
  {
   "cell_type": "code",
   "execution_count": 2,
   "id": "7c6f8f6b",
   "metadata": {},
   "outputs": [
    {
     "ename": "NameError",
     "evalue": "name 'generate_clean_file_lemmatized' is not defined",
     "output_type": "error",
     "traceback": [
      "\u001b[0;31m---------------------------------------------------------------------------\u001b[0m",
      "\u001b[0;31mNameError\u001b[0m                                 Traceback (most recent call last)",
      "Input \u001b[0;32mIn [2]\u001b[0m, in \u001b[0;36m<cell line: 1>\u001b[0;34m()\u001b[0m\n\u001b[0;32m----> 1\u001b[0m \u001b[43mgenerate_clean_file_lemmatized\u001b[49m(\u001b[38;5;124m'\u001b[39m\u001b[38;5;124m../data/2019_clean/days_2019/days_2019_clean_lemma.txt\u001b[39m\u001b[38;5;124m'\u001b[39m, \u001b[38;5;124m'\u001b[39m\u001b[38;5;124mdays_2019\u001b[39m\u001b[38;5;124m'\u001b[39m)\n",
      "\u001b[0;31mNameError\u001b[0m: name 'generate_clean_file_lemmatized' is not defined"
     ]
    }
   ],
   "source": [
    "cleaner.generate_clean_file_lemmatized('../data/2019_clean/days_2019/days_2019_clean_lemma.txt', 'days_2019')"
   ]
  },
  {
   "cell_type": "code",
   "execution_count": null,
   "id": "77cd3590",
   "metadata": {},
   "outputs": [],
   "source": []
  }
 ],
 "metadata": {
  "kernelspec": {
   "display_name": "Python 3 (ipykernel)",
   "language": "python",
   "name": "python3"
  },
  "language_info": {
   "codemirror_mode": {
    "name": "ipython",
    "version": 3
   },
   "file_extension": ".py",
   "mimetype": "text/x-python",
   "name": "python",
   "nbconvert_exporter": "python",
   "pygments_lexer": "ipython3",
   "version": "3.8.13"
  }
 },
 "nbformat": 4,
 "nbformat_minor": 5
}
