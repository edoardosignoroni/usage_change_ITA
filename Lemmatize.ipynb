{
 "cells": [
  {
   "cell_type": "code",
   "execution_count": 3,
   "id": "7a3e876a",
   "metadata": {},
   "outputs": [
    {
     "name": "stderr",
     "output_type": "stream",
     "text": [
      "/home/edo/miniconda3/envs/align/lib/python3.8/site-packages/tqdm/auto.py:22: TqdmWarning: IProgress not found. Please update jupyter and ipywidgets. See https://ipywidgets.readthedocs.io/en/stable/user_install.html\n",
      "  from .autonotebook import tqdm as notebook_tqdm\n"
     ]
    }
   ],
   "source": [
    "import spacy\n",
    "import shutil\n",
    "import os\n",
    "from pathlib import Path"
   ]
  },
  {
   "cell_type": "code",
   "execution_count": 12,
   "id": "a45639a7",
   "metadata": {},
   "outputs": [],
   "source": [
    "def split(in_file, out_path, split_len):\n",
    "    \n",
    "    file_name = os.path.basename(in_file)\n",
    "    save_dir = f'{out_path}/{file_name}_parts'\n",
    "    \n",
    "    if os.path.isdir(save_dir):\n",
    "        shutil.rmtree(save_dir)\n",
    "    \n",
    "    os.mkdir(save_dir)\n",
    "       \n",
    "    with open(in_file, 'r') as in_file:\n",
    "        \n",
    "        data = in_file.readlines()\n",
    "        num_lines = len(data)\n",
    "    \n",
    "        text_data = []\n",
    "        file_count = 0\n",
    "\n",
    "        for sample in data:\n",
    "            sample = sample.replace('\\n', '')\n",
    "            text_data.append(sample)\n",
    "            if len(text_data) == split_len:\n",
    "                save_path = f'{save_dir}/{file_name}_{file_count}.txt'\n",
    "                \n",
    "                with open(save_path, 'w+', encoding='utf-8') as fp:\n",
    "                    fp.write('\\n'.join(text_data))\n",
    "\n",
    "                text_data = []\n",
    "                file_count += 1\n",
    "    \n",
    "    paths = [str(x) for x in Path(f'{out_path}/{file_name}_parts').glob('**/*.txt')]\n",
    "    return paths\n",
    "\n",
    "def lemmatize(in_file, out_dir):\n",
    "    load_model = spacy.load('it_core_news_lg', disable=['parser', 'ner'])\n",
    "    \n",
    "    file_name = os.path.basename(in_file)\n",
    "    if not os.path.isdir(out_dir):\n",
    "        os.mkdir(out_dir)\n",
    "    \n",
    "    with open(in_file, 'r') as in_file, open(f'{out_dir}/{file_name}.lemmas', 'w+') as out_file:\n",
    "        text = in_file.read()\n",
    "        doc = load_model(text)\n",
    "        lemmas = ' '.join([token.lemma_ for token in doc])\n",
    "        print(lemmas, file=out_file)\n",
    "    \n",
    "def join_files(in_dir, out_path, file_name):\n",
    "    files = [str(x) for x in Path(f'{in_dir}').glob('**/*.lemmas')]\n",
    "    \n",
    "    if os.path.isfile(f\"{out_path}/joined_{file_name}.txt\"):\n",
    "        os.remove(f\"{out_path}/joined_{file_name}.txt\")\n",
    "    \n",
    "    with open(f\"{out_path}/joined_{file_name}.txt\", 'w+', encoding='utf-8') as out_file:\n",
    "        for path in files:\n",
    "            with open(path, 'r') as in_file:\n",
    "                for line in in_file:\n",
    "                    out_file.write(line)\n",
    "                os.remove(path)\n",
    "                \n",
    "def run(in_file, out_path, file_name, split_len):\n",
    "    s = split(in_file, out_path, split_len)\n",
    "    \n",
    "    for p in s:\n",
    "        lemmatize(p, out_path)\n",
    "    \n",
    "    join_files(out_path, out_path, file_name)"
   ]
  },
  {
   "cell_type": "code",
   "execution_count": 11,
   "id": "55c19497",
   "metadata": {},
   "outputs": [],
   "source": [
    "run('./test/days_2020_clean.txt', './test', '2020', 5000)"
   ]
  },
  {
   "cell_type": "code",
   "execution_count": null,
   "id": "c57e0639",
   "metadata": {},
   "outputs": [],
   "source": []
  }
 ],
 "metadata": {
  "kernelspec": {
   "display_name": "Python 3 (ipykernel)",
   "language": "python",
   "name": "python3"
  },
  "language_info": {
   "codemirror_mode": {
    "name": "ipython",
    "version": 3
   },
   "file_extension": ".py",
   "mimetype": "text/x-python",
   "name": "python",
   "nbconvert_exporter": "python",
   "pygments_lexer": "ipython3",
   "version": "3.8.13"
  }
 },
 "nbformat": 4,
 "nbformat_minor": 5
}
