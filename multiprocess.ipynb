{
 "cells": [
  {
   "cell_type": "code",
   "execution_count": 1,
   "id": "8be247e4",
   "metadata": {},
   "outputs": [],
   "source": [
    "import multiprocessing\n",
    "from pathlib import Path\n",
    "import shutil\n",
    "import os\n",
    "import fileinput\n",
    "import re\n",
    "import time\n",
    "import pandas as pd"
   ]
  },
  {
   "cell_type": "code",
   "execution_count": 9,
   "id": "5f8f563c",
   "metadata": {},
   "outputs": [
    {
     "name": "stdout",
     "output_type": "stream",
     "text": [
      "main line\n",
      "module name: __main__\n",
      "parent process: 5292\n",
      "process id: 5512\n",
      "after join\n",
      "function f\n",
      "module name: __main__\n",
      "parent process: 5512\n",
      "process id: 18001\n",
      "hello bob\n"
     ]
    }
   ],
   "source": [
    "def info(title):\n",
    "    print(title)\n",
    "    print('module name:', __name__)\n",
    "    print('parent process:', os.getppid())\n",
    "    print('process id:', os.getpid())\n",
    "\n",
    "def f(name):\n",
    "    info('function f')\n",
    "    print('hello', name)\n",
    "\n",
    "if __name__ == '__main__':\n",
    "    info('main line')\n",
    "    p = Process(target=f, args=('bob',))\n",
    "    p.start()\n",
    "    p.join()\n",
    "    print('after join')"
   ]
  },
  {
   "cell_type": "code",
   "execution_count": 16,
   "id": "7147a5ce",
   "metadata": {},
   "outputs": [],
   "source": [
    "def freqs(in_file, out_path):\n",
    "\n",
    "    freqs = {}\n",
    "    \n",
    "    file_name = os.path.basename(in_file)\n",
    "\n",
    "    with open(in_file, 'r') as in_file:\n",
    "        text = in_file.readlines()\n",
    "\n",
    "        for line in text:\n",
    "            line = line.split()\n",
    "            for word in line:\n",
    "                if word not in freqs.keys():\n",
    "                    freqs[word] = 1\n",
    "                else:\n",
    "                    freqs[word] += 1\n",
    "\n",
    "    freqs = dict(sorted(freqs.items(), key=lambda item: item[1], reverse=True))\n",
    "    df = pd.DataFrame(freqs.items(), columns=['Lemma', 'Count'])\n",
    "\n",
    "    with open(f\"{out_path}/freqs_{file_name}.tsv\", 'w+') as out_file:\n",
    "        df.to_csv(out_file, sep='\\t')\n",
    "\n",
    "    return freqs\n",
    "\n",
    "def split(in_file, out_path, split_len):\n",
    "    \n",
    "    file_name = os.path.basename(in_file)\n",
    "    save_dir = f'{out_path}/{file_name}_parts'\n",
    "    \n",
    "    if os.path.isdir(save_dir):\n",
    "        shutil.rmtree(save_dir)\n",
    "    \n",
    "    os.mkdir(save_dir)\n",
    "       \n",
    "    with open(in_file, 'r') as in_file:\n",
    "        \n",
    "        data = in_file.readlines()\n",
    "        num_lines = len(data)\n",
    "    \n",
    "        text_data = []\n",
    "        file_count = 0\n",
    "\n",
    "        for sample in data:\n",
    "            sample = sample.replace('\\n', '')\n",
    "            text_data.append(sample)\n",
    "            if len(text_data) == split_len:\n",
    "                save_path = f'{save_dir}/{file_name}_{file_count}.txt'\n",
    "                \n",
    "                with open(save_path, 'w+', encoding='utf-8') as fp:\n",
    "                    fp.write('\\n'.join(text_data))\n",
    "\n",
    "                text_data = []\n",
    "                file_count += 1\n",
    "    \n",
    "    paths = [str(x) for x in Path(f'{out_path}/{file_name}_parts').glob('**/*.txt')]\n",
    "    return paths\n",
    "\n",
    "def find_rare(freqs, threshold, custom=[]):\n",
    "\n",
    "    rare = []\n",
    "    for key,value in freqs.items():\n",
    "        if value <= threshold:\n",
    "            rare.append(key)\n",
    "        for word in custom:\n",
    "            rare.append(word)\n",
    "    rare_regex_string = '[^a-zA-Z0-9]'+' '+' | '.join(rare)+' '\n",
    "    rare_regex = re.compile(rare_regex_string)\n",
    "    \n",
    "    return rare_regex\n",
    "\n",
    "def filter_rare(in_file, file_code, rare_regex):\n",
    "    start = time.time()\n",
    "    print(f\"{file_code} - {os.getpid()} Filtering words from {in_file}\")\n",
    "    \n",
    "    with fileinput.FileInput(in_file, inplace=True, backup='.bak') as file:\n",
    "        for line in file:\n",
    "            print(rare_regex.sub(' ', line), end='')\n",
    "            \n",
    "            \n",
    "    print(f\"{file_code} - {os.getpid()} end filtering {time.time()-start}\")\n",
    "    \n",
    "def join_files(in_dir, out_path, file_name):\n",
    "    files = [str(x) for x in Path(f'{in_dir}').glob('**/*.txt')]\n",
    "    \n",
    "    if os.path.isfile(f\"{out_path}/joined_{file_name}.txt\"):\n",
    "        os.remove(f\"{out_path}/joined_{file_name}.txt\")\n",
    "    \n",
    "    with open(f\"{out_path}/joined_{file_name}.txt\", 'w+', encoding='utf-8') as out_file:\n",
    "        for path in files:\n",
    "            with open(path, 'r') as in_file:\n",
    "                for line in in_file:\n",
    "                    out_file.write(line)\n",
    "                       \n",
    "def run(in_file, out_path, split_len, threshold, custom=[]):\n",
    "    freqs_dict = freqs(in_file, out_path)\n",
    "    rare_regex = find_rare(freqs_dict, threshold, custom)\n",
    "    splits = split(in_file, out_path, split_len)\n",
    "    \n",
    "    pool = multiprocessing.Pool(16) #use all available cores, otherwise specify the number you want as an argument\n",
    "    i=0\n",
    "    for path in splits:\n",
    "        pool.apply_async(filter_rare, args=(path, i, rare_regex))\n",
    "        i+=1\n",
    "    pool.close()\n",
    "    pool.join()\n",
    "    \n",
    "    file_name = os.path.basename(in_file)\n",
    "    save_dir = f'{out_path}/{file_name}_parts'\n",
    "    \n",
    "    join_files(save_dir, out_path, file_name)"
   ]
  },
  {
   "cell_type": "code",
   "execution_count": 3,
   "id": "b1a3e43d",
   "metadata": {},
   "outputs": [
    {
     "name": "stdout",
     "output_type": "stream",
     "text": [
      "0 - 3449 Filtering words from test/days_2019_sentencesL.txt_parts/days_2019_sentencesL.txt_0.txt\n",
      "1 - 3450 Filtering words from test/days_2019_sentencesL.txt_parts/days_2019_sentencesL.txt_1.txt\n",
      "1 - 3450 end filtering 8641.696554899216\n",
      "0 - 3449 end filtering 8719.27451634407\n",
      "1 - 4076 Filtering words from test/days_2020_sentencesL.txt_parts/days_2020_sentencesL.txt_1.txt\n",
      "2 - 4077 Filtering words from test/days_2020_sentencesL.txt_parts/days_2020_sentencesL.txt_0.txt\n",
      "0 - 4075 Filtering words from test/days_2020_sentencesL.txt_parts/days_2020_sentencesL.txt_2.txt\n",
      "0 - 4075 end filtering 16079.07299733162\n",
      "1 - 4076 end filtering 16155.073775291443\n",
      "2 - 4077 end filtering 16242.472791433334\n"
     ]
    }
   ],
   "source": [
    "custom = ['e', '#x200b']\n",
    "\n",
    "run('/home/edo/projects/usage_change_ITA/data/days_2019/processed/days_2019_sentencesL.txt', './test', 5000, 15)\n",
    "run('/home/edo/projects/usage_change_ITA/data/days_2020/processed/days_2020_sentencesL.txt', './test', 5000, 15)"
   ]
  },
  {
   "cell_type": "code",
   "execution_count": 7,
   "id": "466ea6bd",
   "metadata": {},
   "outputs": [
    {
     "name": "stdout",
     "output_type": "stream",
     "text": [
      "0 - 5062 Filtering words from ./test/test.txt\n",
      "0 - 5062 end filtering 0.0017948150634765625\n"
     ]
    }
   ],
   "source": [
    "test_regex = re.compile('[^a-zA-Z0-9]'+' villafalletto| bartolomeo')\n",
    "\n",
    "filter_rare(\n",
    "    './test/test.txt', 0,\n",
    "    test_regex)"
   ]
  },
  {
   "cell_type": "code",
   "execution_count": 18,
   "id": "893225b6",
   "metadata": {},
   "outputs": [
    {
     "name": "stdout",
     "output_type": "stream",
     "text": [
      "0 - 5844 Filtering words from test/test.txt_parts/test.txt_1.txt1 - 5845 Filtering words from test/test.txt_parts/test.txt_0.txt\n",
      "\n",
      "1 - 5845 end filtering 0.014800786972045898\n",
      "0 - 5844 end filtering 0.02779865264892578\n"
     ]
    }
   ],
   "source": [
    "custom = ['e', '#x200b', 'deleted', 'removed']\n",
    "\n",
    "run('./test/test.txt', './test', 10, 0, custom)"
   ]
  },
  {
   "cell_type": "code",
   "execution_count": null,
   "id": "650e9eda",
   "metadata": {},
   "outputs": [],
   "source": []
  }
 ],
 "metadata": {
  "kernelspec": {
   "display_name": "Python 3 (ipykernel)",
   "language": "python",
   "name": "python3"
  },
  "language_info": {
   "codemirror_mode": {
    "name": "ipython",
    "version": 3
   },
   "file_extension": ".py",
   "mimetype": "text/x-python",
   "name": "python",
   "nbconvert_exporter": "python",
   "pygments_lexer": "ipython3",
   "version": "3.8.13"
  }
 },
 "nbformat": 4,
 "nbformat_minor": 5
}
